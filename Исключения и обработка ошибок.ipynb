{
 "cells": [
  {
   "cell_type": "markdown",
   "id": "75123adb",
   "metadata": {},
   "source": [
    "#### Задание 1\n",
    "Печатные газеты использовали свой формат дат для каждого выпуска. \n",
    "Для каждой газеты из списка напишите формат указанной даты для перевода в объект *datetime*:\n",
    "- The Moscow Times — Wednesday, October 2, 2002\n",
    "- The Guardian — Friday, 11.10.13\n",
    "- Daily News — Thursday, 18 August 1977"
   ]
  },
  {
   "cell_type": "code",
   "execution_count": 6,
   "id": "80428394",
   "metadata": {},
   "outputs": [],
   "source": [
    "from datetime import datetime\n",
    "\n",
    "the_moscow_times = datetime.strptime('Wednesday, October 2, 2002', '%A, %B %d, %Y')\n",
    "the_guardian = datetime.strptime('Friday, 11.10.13', '%A, %d.%m.%y')\n",
    "daily_news = datetime.strptime('Thursday, 18 August 1977', '%A, %d %B %Y')"
   ]
  },
  {
   "cell_type": "markdown",
   "id": "c98e3dd0",
   "metadata": {},
   "source": [
    "#### Задание 2\n",
    "Дан поток дат в формате YYYY-MM-DD, в которых встречаются некорректные значения:\n",
    "\n",
    "`stream = ['2018-04-02', '2018-02-29', '2018-19-02']`\n",
    "\n",
    "Напишите функцию, которая проверяет эти даты на корректность. То есть для каждой даты возвращает True — дата корректна или False — некорректная."
   ]
  },
  {
   "cell_type": "code",
   "execution_count": 13,
   "id": "6984a64c",
   "metadata": {},
   "outputs": [],
   "source": [
    "def check_date(str_date):\n",
    "    try:\n",
    "        datetime.strptime(str_date, '%Y-%m-%d')\n",
    "        return 'true'\n",
    "    except:\n",
    "        return 'false'"
   ]
  },
  {
   "cell_type": "code",
   "execution_count": 19,
   "id": "deb15caa",
   "metadata": {},
   "outputs": [
    {
     "name": "stdout",
     "output_type": "stream",
     "text": [
      "2018-04-02: true\n",
      "2018-02-29: false\n",
      "2018-19-02: false\n"
     ]
    }
   ],
   "source": [
    "stream = ['2018-04-02', '2018-02-29', '2018-19-02']\n",
    "for dates in stream:\n",
    "    print(dates + ': ' + check_date(dates))"
   ]
  },
  {
   "cell_type": "markdown",
   "id": "963c3517",
   "metadata": {},
   "source": [
    "#### Задание 3\n",
    "Напишите функцию *date_range*, которая возвращает список дат за период от *start_date* до *end_date*. \n",
    "\n",
    "Даты должны вводиться в формате ***YYYY-MM-DD***. \n",
    "\n",
    "В случае неверного формата или при start_date > end_date должен возвращаться пустой список."
   ]
  },
  {
   "cell_type": "code",
   "execution_count": 21,
   "id": "3fafc41f",
   "metadata": {},
   "outputs": [],
   "source": [
    "def date_range(start_date, end_date):\n",
    "    result = []\n",
    "    try:\n",
    "        s = datetime.strptime(start_date, '%Y-%m-%d')\n",
    "        e = datetime.strptime(end_date, '%Y-%m-%d')\n",
    "    except:\n",
    "        return result \n",
    "    if s > e :\n",
    "        return result \n",
    "    else:\n",
    "        while s<=e:\n",
    "            result.append(s.strftime('%Y-%m-%d'))\n",
    "            s += timedelta(days = 1)\n",
    "        return result"
   ]
  },
  {
   "cell_type": "code",
   "execution_count": 25,
   "id": "3b5d3885",
   "metadata": {},
   "outputs": [
    {
     "name": "stdout",
     "output_type": "stream",
     "text": [
      "[]\n"
     ]
    }
   ],
   "source": [
    "from datetime import timedelta\n",
    "print(date_range('2018-02-28', '2018-01-02'))"
   ]
  },
  {
   "cell_type": "code",
   "execution_count": null,
   "id": "0099e681",
   "metadata": {},
   "outputs": [],
   "source": []
  }
 ],
 "metadata": {
  "kernelspec": {
   "display_name": "Python 3 (ipykernel)",
   "language": "python",
   "name": "python3"
  },
  "language_info": {
   "codemirror_mode": {
    "name": "ipython",
    "version": 3
   },
   "file_extension": ".py",
   "mimetype": "text/x-python",
   "name": "python",
   "nbconvert_exporter": "python",
   "pygments_lexer": "ipython3",
   "version": "3.10.9"
  }
 },
 "nbformat": 4,
 "nbformat_minor": 5
}
