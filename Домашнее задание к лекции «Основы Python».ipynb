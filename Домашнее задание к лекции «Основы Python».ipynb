{
 "cells": [
  {
   "cell_type": "markdown",
   "id": "69267947",
   "metadata": {},
   "source": [
    "### Задание 1:\n",
    "\n",
    "Даны 2 переменных, в которых хранятся строки произвольной длины: phrase_1 и phrase_2.\n",
    "Напишите код, который проверяет какая из этих строк длиннее."
   ]
  },
  {
   "cell_type": "code",
   "execution_count": 9,
   "id": "f52ed5bd",
   "metadata": {},
   "outputs": [
    {
     "name": "stdout",
     "output_type": "stream",
     "text": [
      "Введите 1-ю фразу: Насколько проще было бы писать программы, если бы не заказчики\n",
      "Введите 2-ю фразу: Насколько проще было бы писать программы, если бы не заказчики\n",
      "Фразы равной длины\n"
     ]
    }
   ],
   "source": [
    "phrase_1 = input('Введите 1-ю фразу: ')\n",
    "phrase_2 = input('Введите 2-ю фразу: ')\n",
    "\n",
    "if len(phrase_1) > len(phrase_2):\n",
    "    print('Фраза 1 длиннее фразы 2')\n",
    "elif len(phrase_1) < len(phrase_2):\n",
    "    print('Фраза 2 длиннее фразы 1')\n",
    "else:\n",
    "    print('Фразы равной длины')"
   ]
  },
  {
   "cell_type": "markdown",
   "id": "72add73d",
   "metadata": {},
   "source": [
    "### Задание 2:\n",
    "\n",
    "Дана переменная, в которой хранится число (год). Необходимо написать программу, которая выведет, является ли данный год високосным или обычным."
   ]
  },
  {
   "cell_type": "markdown",
   "id": "1493159c",
   "metadata": {},
   "source": [
    "*Високосным годом является тот год, который нацело делится на 4, \n",
    "кроме столетий (исключением являются столетия делящиеся на 400).*"
   ]
  },
  {
   "cell_type": "code",
   "execution_count": 17,
   "id": "9b25517a",
   "metadata": {},
   "outputs": [
    {
     "name": "stdout",
     "output_type": "stream",
     "text": [
      "Введите год: 2019\n",
      "Обычный год\n"
     ]
    }
   ],
   "source": [
    "year = int(input('Введите год: '))\n",
    "\n",
    "if ( year % 4 == 0 and year % 100 != 0 ) or year % 400 == 0:\n",
    "    print('Високосный год')\n",
    "else:\n",
    "    print('Обычный год')"
   ]
  },
  {
   "cell_type": "markdown",
   "id": "c3f6cb9a",
   "metadata": {},
   "source": [
    "### Задание 3\n",
    "Необходимо написать программу, которая будет запрашивать у пользователя месяц и дату рождения и выводить соответствующий знак зодиака."
   ]
  },
  {
   "cell_type": "markdown",
   "id": "226e5aa4",
   "metadata": {},
   "source": [
    "- Козерог: 23 декабря – 20 января\n",
    "- Водолей: 21 января – 19 февраля\n",
    "- Рыбы: 20 февраля – 20 марта\n",
    "- Овен: 21 марта – 20 апреля \n",
    "- Телец: 21 апреля – 21 мая\n",
    "- Близнецы: 22 мая – 21 июня\n",
    "- Рак: 22 июня – 22 июля\n",
    "- Лев: 23 июля – 21 августа\n",
    "- Дева: 22 августа – 23 сентября\n",
    "- Весы: 24 сентября – 23 октября\n",
    "- Скорпион: 24 октября – 22 ноября\n",
    "- Стрелец: 23 ноября – 22 декабря"
   ]
  },
  {
   "cell_type": "code",
   "execution_count": 22,
   "id": "19657c61",
   "metadata": {},
   "outputs": [
    {
     "name": "stdout",
     "output_type": "stream",
     "text": [
      "Введите день: 29\n",
      "Введите месяц: Октябрь\n",
      "Ваш знак зодиака:  Скорпион\n"
     ]
    }
   ],
   "source": [
    "birth_day = int(input('Введите день: '))\n",
    "birth_month = input('Введите месяц: ')\n",
    "text_to_output = 'Ваш знак зодиака: '\n",
    "\n",
    "if birth_month == 'Январь':\n",
    "    if birth_day < 21:\n",
    "        print(text_to_output, 'Козерог')\n",
    "    else: \n",
    "        print(text_to_output, 'Водолей')\n",
    "elif birth_month == 'Февраль':\n",
    "    if birth_day < 20:\n",
    "        print(text_to_output, 'Водолей')\n",
    "    else: \n",
    "        print(text_to_output, 'Рыбы')\n",
    "elif birth_month == 'Март':\n",
    "    if birth_day < 21:\n",
    "        print(text_to_output, 'Рыбы')\n",
    "    else: \n",
    "        print(text_to_output, 'Овен')\n",
    "elif birth_month == 'Апрель':\n",
    "    if birth_day < 21:\n",
    "        print(text_to_output, 'Овен')\n",
    "    else: \n",
    "        print(text_to_output, 'Телец')\n",
    "elif birth_month == 'Май':\n",
    "    if birth_day < 22:\n",
    "        print(text_to_output, 'Телец')\n",
    "    else: \n",
    "        print(text_to_output, 'Близнецы')\n",
    "elif birth_month == 'Июнь':\n",
    "    if birth_day < 22:\n",
    "        print(text_to_output, 'Близнецы')\n",
    "    else: \n",
    "        print(text_to_output, 'Рак')\n",
    "elif birth_month == 'Июль':\n",
    "    if birth_day < 23:\n",
    "        print(text_to_output, 'Рак')\n",
    "    else: \n",
    "        print(text_to_output, 'Лев')\n",
    "elif birth_month == 'Август':\n",
    "    if birth_day < 22:\n",
    "        print(text_to_output, 'Лев')\n",
    "    else: \n",
    "        print(text_to_output, 'Дева')\n",
    "elif birth_month == 'Сентябрь':\n",
    "    if birth_day < 24:\n",
    "        print(text_to_output, 'Дева')\n",
    "    else: \n",
    "        print(text_to_output, 'Весы')\n",
    "elif birth_month == 'Октябрь':\n",
    "    if birth_day < 24:\n",
    "        print(text_to_output, 'Весы')\n",
    "    else: \n",
    "        print(text_to_output, 'Скорпион')\n",
    "elif birth_month == 'Ноябрь':\n",
    "    if birth_day < 23:\n",
    "        print(text_to_output, 'Скорпион')\n",
    "    else: \n",
    "        print(text_to_output, 'Стрелец')\n",
    "elif birth_month == 'Декабрь':\n",
    "    if birth_day < 23:\n",
    "        print(text_to_output, 'Стрелец')\n",
    "    else: \n",
    "        print(text_to_output, 'Козерог')\n",
    "else:\n",
    "    print('Некорректно указана дата')"
   ]
  },
  {
   "cell_type": "markdown",
   "id": "b3b5fa94",
   "metadata": {},
   "source": [
    "### Задание 4\n",
    "Вам нужно написать программу для подбора упаковок по размерам товара. Размеры (ширина, длина, высота) хранятся в переменных (в сантиметрах):"
   ]
  },
  {
   "cell_type": "markdown",
   "id": "3d5fc881",
   "metadata": {},
   "source": [
    "* если каждое из трех измерений менее или равно 15 сантиметрам, то выведите на экран \"Коробка №1\";\n",
    "* если хотя бы одно из измерений больше 2 метров, то выводите \"Упаковка для лыж\";\n",
    "* если хотя бы одно из измерений больше 15 сантиметров, но менее 50 сантиметров, то выводите \"Коробка №2\";\n",
    "* во всех остальных случаях выводите \"Коробка №3\"."
   ]
  },
  {
   "cell_type": "code",
   "execution_count": 26,
   "id": "4e876880",
   "metadata": {},
   "outputs": [
    {
     "name": "stdout",
     "output_type": "stream",
     "text": [
      "Введите ширину: 10\n",
      "Введите длину: 15\n",
      "Введите высоту: 12\n",
      "Коробка №1\n"
     ]
    }
   ],
   "source": [
    "width = int(input('Введите ширину: '))\n",
    "length = int(input('Введите длину: '))\n",
    "height = int(input('Введите высоту: '))\n",
    "\n",
    "if width <= 15 and length <= 15 and height <= 15:\n",
    "    print('Коробка №1')\n",
    "elif width > 200 or length > 200 or height > 200:\n",
    "    print('Упаковка для лыж')\n",
    "elif 15 < width < 50 or 15 < length < 50 or 15 < height < 50:\n",
    "    print('Коробка №2')\n",
    "else: \n",
    "    print('Коробка №3')"
   ]
  },
  {
   "cell_type": "markdown",
   "id": "1c05ec95",
   "metadata": {},
   "source": [
    "### Задание 5 (необязательное)\n",
    "Дана переменная, в которой хранится шестизначное число (номер проездного билета). Напишите программу, которая будет определять, является ли данный билет \"счастливым\". Билет считается счастливым, если сумма первых трех цифр совпадает с суммой последних трех цифр номера."
   ]
  },
  {
   "cell_type": "code",
   "execution_count": null,
   "id": "440b0f3e",
   "metadata": {},
   "outputs": [],
   "source": [
    "ticket = input('Введите номер билета: ')\n",
    "ticket_numb = list(ticket)\n",
    "first_sum = 0\n",
    "second_sum = 0\n",
    "\n",
    "\n",
    "for i in range(len(ticket_numb)):\n",
    "    if i < len(ticket_numb) / 2:\n",
    "        first_sum = first_sum + int(ticket_numb [i])\n",
    "    else:\n",
    "        second_sum = second_sum + int(ticket_numb [i])\n",
    "        \n",
    "if first_sum == second_sum:\n",
    "    print('Счастливый билет')\n",
    "else:\n",
    "    print('Несчастливый билет')"
   ]
  },
  {
   "cell_type": "markdown",
   "id": "c3129258",
   "metadata": {},
   "source": [
    "### Задание 6 (необязательное)\n",
    "Напишите программу, которая сможет вычислять площади трех фигур (круг, треугольник и прямоугольник). Тип фигуры запрашиваем через пользовательский ввод, после чего делаем запрос характеристик фигуры:"
   ]
  },
  {
   "cell_type": "markdown",
   "id": "f608814a",
   "metadata": {},
   "source": [
    "+ если пользователь выбрал круг, запрашиваем его радиус,\n",
    "+ если треугольник – длины трех его сторон;\n",
    "+ если прямоугольник – длины двух его сторон."
   ]
  },
  {
   "cell_type": "code",
   "execution_count": 48,
   "id": "bcddab25",
   "metadata": {},
   "outputs": [
    {
     "name": "stdout",
     "output_type": "stream",
     "text": [
      "Введите тип фигуры: треугольник\n",
      "Введите длину стороны A: 2\n",
      "Введите длину стороны B: 2\n",
      "Введите длину стороны C: 3\n",
      "Площадь фигуры треугольник = 1.984\n"
     ]
    }
   ],
   "source": [
    "#импорт библиотеки для использования константы числа Пи\n",
    "import math\n",
    "\n",
    "figure = input('Введите тип фигуры: ')\n",
    "s = 0\n",
    "p = 0\n",
    "\n",
    "if figure == 'круг':\n",
    "    r = int(input ('Введите радиус круга: '))\n",
    "    s = math.pi * r**2\n",
    "elif figure == 'треугольник':\n",
    "    length_A = int(input ('Введите длину стороны A: '))\n",
    "    length_B = int(input ('Введите длину стороны B: '))\n",
    "    length_C = int(input ('Введите длину стороны C: '))\n",
    "    p = (length_A + length_B + length_C)/2\n",
    "    s = (p*(p-length_A)*(p-length_B)*(p-length_C))**(1/2)\n",
    "elif figure == 'прямоугольник':\n",
    "    length_A = int(input ('Введите длину стороны A: '))\n",
    "    length_B = int(input ('Введите длину стороны B: '))\n",
    "    s = length_A*length_B\n",
    "else:\n",
    "    s = -1\n",
    "    \n",
    "    \n",
    "if s == -1:\n",
    "    print ('Неизвестная фигура')\n",
    "else:\n",
    "    print ('Площадь фигуры',figure,'=', round(s, 3))"
   ]
  },
  {
   "cell_type": "code",
   "execution_count": null,
   "id": "b223a0f0",
   "metadata": {},
   "outputs": [],
   "source": []
  }
 ],
 "metadata": {
  "kernelspec": {
   "display_name": "Python 3 (ipykernel)",
   "language": "python",
   "name": "python3"
  },
  "language_info": {
   "codemirror_mode": {
    "name": "ipython",
    "version": 3
   },
   "file_extension": ".py",
   "mimetype": "text/x-python",
   "name": "python",
   "nbconvert_exporter": "python",
   "pygments_lexer": "ipython3",
   "version": "3.10.9"
  }
 },
 "nbformat": 4,
 "nbformat_minor": 5
}
