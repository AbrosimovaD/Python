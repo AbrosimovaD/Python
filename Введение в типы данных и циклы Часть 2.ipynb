{
 "cells": [
  {
   "cell_type": "markdown",
   "id": "50b8105b",
   "metadata": {},
   "source": [
    "## Домашнее задание к лекции \"Введение в типы данных и циклы. Часть 2\""
   ]
  },
  {
   "cell_type": "markdown",
   "id": "c281c717",
   "metadata": {},
   "source": [
    "### Задание 1\n",
    "Дана переменная, в которой хранится словарь, содержащий гео-метки для каждого пользователя (пример структуры данных приведен ниже). Вам необходимо написать программу, которая выведет на экран множество уникальных гео-меток всех пользователей."
   ]
  },
  {
   "cell_type": "code",
   "execution_count": 23,
   "id": "5aaf2f00",
   "metadata": {},
   "outputs": [],
   "source": [
    "ids = {'user1': [213, 213, 213, 15, 213], \n",
    "       'user2': [54, 54, 119, 119, 119], \n",
    "       'user3': [213, 98, 98, 35]}"
   ]
  },
  {
   "cell_type": "code",
   "execution_count": 22,
   "id": "ac52f72e",
   "metadata": {},
   "outputs": [
    {
     "name": "stdout",
     "output_type": "stream",
     "text": [
      "{98, 35, 213, 54, 119, 15}\n"
     ]
    }
   ],
   "source": [
    "result = set()\n",
    "for user, geo in ids.items():\n",
    "    result.update(set(geo))\n",
    "print(result)"
   ]
  },
  {
   "cell_type": "markdown",
   "id": "496819f9",
   "metadata": {},
   "source": [
    "### Задание 2\n",
    "Дана переменная, в которой хранится список поисковых запросов пользователя (пример структуры данных приведен ниже, но запросы потенциально могут быть любые). Вам необходимо написать программу, которая выведет на экран распределение количества слов в запросах в требуемом виде."
   ]
  },
  {
   "cell_type": "code",
   "execution_count": 2,
   "id": "de7a8df0",
   "metadata": {},
   "outputs": [],
   "source": [
    "queries = [\n",
    "    'смотреть сериалы онлайн',\n",
    "    'новости спорта',\n",
    "    'афиша кино',\n",
    "    'курс доллара',\n",
    "    'сериалы этим летом',\n",
    "    'курс по питону',\n",
    "    'сериалы про спорт',\n",
    "]"
   ]
  },
  {
   "cell_type": "code",
   "execution_count": 9,
   "id": "024da7ef",
   "metadata": {},
   "outputs": [
    {
     "name": "stdout",
     "output_type": "stream",
     "text": [
      "Поисковых запросов, содержащих 3 слов(а) : 57.14 %\n",
      "Поисковых запросов, содержащих 2 слов(а) : 42.86 %\n"
     ]
    }
   ],
   "source": [
    "num = 0\n",
    "result = {}\n",
    "output = 'Поисковых запросов, содержащих {} слов(а)'\n",
    "for search in queries:\n",
    "    num = len(search.split( ))\n",
    "    result.setdefault(output.format(num), 0)\n",
    "    result[output.format(num)] += 1\n",
    "total = sum(result.values())\n",
    "for key,value in result.items():\n",
    "    result[key] = round(value*100/total,2)\n",
    "\n",
    "for key, value in result.items():\n",
    "    print(key,':', value, '%')"
   ]
  },
  {
   "cell_type": "markdown",
   "id": "3b259da9",
   "metadata": {},
   "source": [
    "### Задание 3\n",
    "Дана переменная, в которой хранится информация о затратах и доходе рекламных кампаний по различным источникам. Необходимо дополнить исходную структуру показателем ROI, который рассчитаем по формуле: **(revenue / cost - 1) * 100**"
   ]
  },
  {
   "cell_type": "code",
   "execution_count": 28,
   "id": "bbd54af2",
   "metadata": {},
   "outputs": [],
   "source": [
    "results = {\n",
    "    'vk': {'revenue': 103, 'cost': 0},\n",
    "    'yandex': {'revenue': 179, 'cost': 153},\n",
    "    'facebook': {'revenue': 103, 'cost': 110},\n",
    "    'adwords': {'revenue': 35, 'cost': 34},\n",
    "    'twitter': {'revenue': 11, 'cost': 24},\n",
    "}"
   ]
  },
  {
   "cell_type": "code",
   "execution_count": 29,
   "id": "610691ac",
   "metadata": {},
   "outputs": [
    {
     "data": {
      "text/plain": [
       "{'adwords': {'revenue': 35, 'cost': 34, 'roi': 2.94},\n",
       " 'facebook': {'revenue': 103, 'cost': 110, 'roi': -6.36},\n",
       " 'twitter': {'revenue': 11, 'cost': 24, 'roi': -54.17},\n",
       " 'vk': {'revenue': 103, 'cost': 0, 'roi': 0},\n",
       " 'yandex': {'revenue': 179, 'cost': 153, 'roi': 16.99}}"
      ]
     },
     "execution_count": 29,
     "metadata": {},
     "output_type": "execute_result"
    }
   ],
   "source": [
    "results = dict(sorted(results.items()))\n",
    "for company, kpi in results.items():\n",
    "    kpi.setdefault('roi',0)\n",
    "    try:\n",
    "        kpi['roi'] = round((kpi['revenue']/kpi['cost'] - 1)*100,2)  \n",
    "    except ZeroDivisionError:\n",
    "        pass\n",
    "results"
   ]
  },
  {
   "cell_type": "markdown",
   "id": "764e191c",
   "metadata": {},
   "source": [
    "### Задание 4\n",
    "Дана переменная, в которой хранится статистика рекламных каналов по объемам продаж (пример структуры данных приведен ниже). Напишите программу, которая возвращает название канала с максимальным объемом продаж."
   ]
  },
  {
   "cell_type": "code",
   "execution_count": 45,
   "id": "8d040b97",
   "metadata": {},
   "outputs": [
    {
     "name": "stdout",
     "output_type": "stream",
     "text": [
      "Максимальный объем продаж на рекламном канале: yandex, vk\n"
     ]
    }
   ],
   "source": [
    "stats = {'facebook': 55, 'yandex': 120, 'vk': 120, 'google': 99, 'email': 42, 'ok': 98}\n",
    "output = 'Максимальный объем продаж на рекламном канале: ' +  str(', '.join([k for k, v in stats.items() if v==max(stats.values())]))\n",
    "print(output)"
   ]
  },
  {
   "cell_type": "markdown",
   "id": "e29ab8f1",
   "metadata": {},
   "source": [
    "### Задание 5 (необязательно)\n",
    "Дан список произвольной длины. Необходимо написать код, который на основе исходного списка составит словарь такого уровня вложенности, какова длина исхондого списка."
   ]
  },
  {
   "cell_type": "code",
   "execution_count": 76,
   "id": "1eca5a00",
   "metadata": {},
   "outputs": [],
   "source": [
    "my_list = ['a', 'b', 'c', 'd', 'e', 'f']"
   ]
  },
  {
   "cell_type": "code",
   "execution_count": 77,
   "id": "14fcb848",
   "metadata": {},
   "outputs": [
    {
     "name": "stdout",
     "output_type": "stream",
     "text": [
      "{'a': {'b': {'c': {'d': {'f': 'e'}}}}}\n"
     ]
    }
   ],
   "source": [
    "dic_sample = {}\n",
    "dic = {}\n",
    "dic_sample[my_list[-1]]= my_list[-2]\n",
    "for i in reversed(range(len(my_list[:-2]))):\n",
    "    dic = {}\n",
    "    dic[my_list[i]]= dic_sample\n",
    "    dic_sample= dic\n",
    "print(dic)"
   ]
  },
  {
   "cell_type": "markdown",
   "id": "d835f508",
   "metadata": {},
   "source": [
    "### Задание 6 (необязательно)\n",
    "Дана книга рецептов с информацией о том, сколько ингредиентов нужно для приготовления блюда в расчете на одну порцию (пример данных представлен ниже).\n",
    "Напишите программу, которая будет запрашивать у пользователя количество порций для приготовления этих блюд и отображать информацию о суммарном количестве требуемых ингредиентов в указанном виде.\n",
    "Внимание! Одинаковые ингредиенты с разными размерностями нужно считать раздельно!"
   ]
  },
  {
   "cell_type": "code",
   "execution_count": 1,
   "id": "696e0b04",
   "metadata": {},
   "outputs": [],
   "source": [
    "cook_book = {\n",
    "  'салат': [\n",
    "     {'ingridient_name': 'сыр', 'quantity': 50, 'measure': 'гр'},\n",
    "     {'ingridient_name': 'томаты', 'quantity': 2, 'measure': 'шт'},\n",
    "     {'ingridient_name': 'огурцы', 'quantity': 20, 'measure': 'гр'},\n",
    "     {'ingridient_name': 'маслины', 'quantity': 10, 'measure': 'гр'},\n",
    "     {'ingridient_name': 'оливковое масло', 'quantity': 20, 'measure': 'мл'},\n",
    "     {'ingridient_name': 'салат', 'quantity': 10, 'measure': 'гр'},\n",
    "     {'ingridient_name': 'перец', 'quantity': 20, 'measure': 'гр'}\n",
    "    ],\n",
    "  'пицца': [\n",
    "     {'ingridient_name': 'сыр', 'quantity': 20, 'measure': 'гр'},\n",
    "     {'ingridient_name': 'колбаса', 'quantity': 30, 'measure': 'гр'},\n",
    "     {'ingridient_name': 'бекон', 'quantity': 30, 'measure': 'гр'},\n",
    "     {'ingridient_name': 'оливки', 'quantity': 10, 'measure': 'гр'},\n",
    "     {'ingridient_name': 'томаты', 'quantity': 20, 'measure': 'гр'},\n",
    "     {'ingridient_name': 'тесто', 'quantity': 100, 'measure': 'гр'},   \n",
    "    ],\n",
    "  'лимонад': [\n",
    "     {'ingridient_name': 'лимон', 'quantity': 1, 'measure': 'шт'},\n",
    "     {'ingridient_name': 'вода', 'quantity': 200, 'measure': 'мл'},\n",
    "     {'ingridient_name': 'сахар', 'quantity': 10, 'measure': 'гр'},\n",
    "     {'ingridient_name': 'лайм', 'quantity': 20, 'measure': 'гр'},    \n",
    "    ]\n",
    "}"
   ]
  },
  {
   "cell_type": "code",
   "execution_count": 21,
   "id": "34e208e3",
   "metadata": {},
   "outputs": [
    {
     "name": "stdout",
     "output_type": "stream",
     "text": [
      "Введите количество порций: 5\n"
     ]
    },
    {
     "data": {
      "text/plain": [
       "'Сыр: 250 гр\\nТоматы: 10 шт\\nОгурцы: 100 гр\\nМаслины: 50 гр\\nОливковое масло: 100 мл\\nСалат: 50 гр\\nПерец: 100 гр\\nСыр: 100 гр\\nКолбаса: 150 гр\\nБекон: 150 гр\\nОливки: 50 гр\\nТоматы: 100 гр\\nТесто: 500 гр\\nЛимон: 5 шт\\nВода: 1000 мл\\nСахар: 50 гр\\nЛайм: 100 гр'"
      ]
     },
     "execution_count": 21,
     "metadata": {},
     "output_type": "execute_result"
    }
   ],
   "source": [
    "num = int(input('Введите количество порций: '))\n",
    "output_list = []\n",
    "line = '{}: {} {}'\n",
    "for dish in cook_book.values():\n",
    "    for ingridient in dish:\n",
    "        output_list.append(line.format(ingridient['ingridient_name'].capitalize(), str(ingridient['quantity']*num), ingridient['measure']))\n",
    "output = '\\n'.join(map(str, output_list))\n",
    "output"
   ]
  },
  {
   "cell_type": "code",
   "execution_count": null,
   "id": "a8252fce",
   "metadata": {},
   "outputs": [],
   "source": []
  }
 ],
 "metadata": {
  "kernelspec": {
   "display_name": "Python 3 (ipykernel)",
   "language": "python",
   "name": "python3"
  },
  "language_info": {
   "codemirror_mode": {
    "name": "ipython",
    "version": 3
   },
   "file_extension": ".py",
   "mimetype": "text/x-python",
   "name": "python",
   "nbconvert_exporter": "python",
   "pygments_lexer": "ipython3",
   "version": "3.10.9"
  }
 },
 "nbformat": 4,
 "nbformat_minor": 5
}
