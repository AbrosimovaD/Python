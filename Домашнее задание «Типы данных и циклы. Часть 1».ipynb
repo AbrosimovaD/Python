{
 "cells": [
  {
   "cell_type": "markdown",
   "id": "2d3db71f",
   "metadata": {},
   "source": [
    "## Домашнее задание к лекции \"Введение в типы данных и циклы. Часть 1\""
   ]
  },
  {
   "cell_type": "markdown",
   "id": "b128d577",
   "metadata": {},
   "source": [
    "### Задание 1\n",
    "Дана переменная, в которой хранится слово из латинских букв. Напишите код, который выводит на экран:\n",
    "- среднюю букву, если число букв в слове нечетное;\n",
    "- две средних буквы, если число букв четное."
   ]
  },
  {
   "cell_type": "code",
   "execution_count": 4,
   "id": "4a83750b",
   "metadata": {},
   "outputs": [
    {
     "name": "stdout",
     "output_type": "stream",
     "text": [
      "word = test\n",
      "es\n"
     ]
    }
   ],
   "source": [
    "word = input('word = ')\n",
    "output = ''\n",
    "\n",
    "if len(word) % 2 != 0:\n",
    "    output = word[len(word)//2]\n",
    "else:\n",
    "    output = word[len(word)//2 - 1] + word[len(word)//2]\n",
    "    \n",
    "print(output)\n",
    "    "
   ]
  },
  {
   "cell_type": "markdown",
   "id": "c343d797",
   "metadata": {},
   "source": [
    "### Задание 2\n",
    "Напишите программу, которая последовательно запрашивает у пользователя числа (по одному за раз) и после первого нуля выводит сумму всех ранее введенных чисел."
   ]
  },
  {
   "cell_type": "code",
   "execution_count": 8,
   "id": "afa82231",
   "metadata": {},
   "outputs": [
    {
     "name": "stdout",
     "output_type": "stream",
     "text": [
      "Введите число: 1\n",
      "Введите число: 2\n",
      "Введите число: 3\n",
      "Введите число: 0\n",
      "6\n"
     ]
    }
   ],
   "source": [
    "number = int(input('Введите число: '))\n",
    "sum = 0\n",
    "\n",
    "\n",
    "while number != 0:\n",
    "    sum = sum + number\n",
    "    number = int(input('Введите число: '))\n",
    "\n",
    "print(sum)"
   ]
  },
  {
   "cell_type": "markdown",
   "id": "33b569aa",
   "metadata": {},
   "source": [
    "### Задание 3\n",
    "Мы делаем MVP dating-сервиса, и у нас есть список парней и девушек.\n",
    "Выдвигаем гипотезу: лучшие рекомендации мы получим, если просто отсортируем имена по алфавиту и познакомим людей с одинаковыми индексами после сортировки! Но мы не будем никого знакомить, если кто-то может остаться без пары:"
   ]
  },
  {
   "cell_type": "code",
   "execution_count": 19,
   "id": "50656bed",
   "metadata": {},
   "outputs": [
    {
     "name": "stdout",
     "output_type": "stream",
     "text": [
      "Введите имена парней через запятую и пробел: 'Peter', 'Alex', 'John', 'Arthur', 'Richard', 'Michael'\n",
      "Введите имена девушек через запятую и пробел: 'Kate', 'Liza', 'Kira', 'Emma', 'Trisha'\n",
      "Внимание, кто-то может остаться без пары!\n"
     ]
    }
   ],
   "source": [
    "boys = input('Введите имена парней через запятую и пробел: ')\n",
    "girls = input('Введите имена девушек через запятую и пробел: ')\n",
    "output = 'Идеальные пары:\\n'\n",
    "\n",
    "boys = boys.split(', ')\n",
    "girls = girls.split(', ')\n",
    "\n",
    "boys.sort()\n",
    "girls.sort()\n",
    "\n",
    "if len(boys) == len(girls):\n",
    "    for i in range(len(boys)):\n",
    "        output = output + boys[i] + ' и ' + girls[i] + '\\n'\n",
    "else:\n",
    "    output = 'Внимание, кто-то может остаться без пары!'\n",
    "    \n",
    "print(output)"
   ]
  },
  {
   "cell_type": "markdown",
   "id": "41af18c0",
   "metadata": {},
   "source": [
    "### Задание 4\n",
    "У нас есть список, содержащий информацию о среднедневной температуре в Фаренгейтах за произвольный период по странам (структура данных в примере). Необходимо написать код, который рассчитает среднюю температуру за период в Цельсиях(!) для каждой страны."
   ]
  },
  {
   "cell_type": "markdown",
   "id": "1eec3cc1",
   "metadata": {},
   "source": [
    "*(Фаренгейт — 32) : 1,8 = Цельсий*"
   ]
  },
  {
   "cell_type": "code",
   "execution_count": 48,
   "id": "5b9f07cf",
   "metadata": {},
   "outputs": [
    {
     "name": "stdout",
     "output_type": "stream",
     "text": [
      "Средняя температура в странах:\n",
      "Таиланд  -  23.9 C\n",
      "Германия  -  13.8 C\n",
      "Россия  -  3.7 C\n",
      "Польша  -  12.0 C\n",
      "\n"
     ]
    }
   ],
   "source": [
    "countries_temperature = [\n",
    "    ['Таиланд', [75.2, 77, 78.8, 73.4, 68, 75.2, 77]],\n",
    "    ['Германия', [57.2, 55.4, 59, 59, 53.6]],\n",
    "    ['Россия', [35.6, 37.4, 39.2, 41, 42.8, 39.2, 35.6]],\n",
    "    ['Польша', [50, 50, 53.6, 57.2, 55.4, 55.4]]\n",
    "]\n",
    "output = 'Средняя температура в странах:\\n'\n",
    "\n",
    "for i in range(len(countries_temperature)):\n",
    "    sum = 0\n",
    "    count = 0\n",
    "    country = countries_temperature[i][0]\n",
    "    for j in range(1,len(countries_temperature[i])):\n",
    "        for k in range(len(countries_temperature[i][j])):\n",
    "            count +=1\n",
    "            sum += (countries_temperature[i][j][k] - 32)/1.8\n",
    "        sum = round(sum/count,1)\n",
    "        output += country + '  -  ' + str(sum) +' C\\n'    \n",
    "print(output)"
   ]
  },
  {
   "cell_type": "markdown",
   "id": "236c3f00",
   "metadata": {},
   "source": [
    "### Задание 5 (необязательное)\n",
    "Имеется список с транспортными номерами. Необходимо написать код, который проверит каждый номер на валидность (1 буква, 3 цифры, 2 буквы, 2-3 цифры). Обратите внимание, что не все буквы кириллического алфавита используются в транспортных номерах.\n",
    "\n",
    "Если номер валиден, то вывести его в нужном формавте (пример ниже), а если не валиден — вывести текст. При решении помогут регулярные выражения, с которыми будет знакомство на практике."
   ]
  },
  {
   "cell_type": "code",
   "execution_count": 95,
   "id": "2f5e6d39",
   "metadata": {},
   "outputs": [
    {
     "name": "stdout",
     "output_type": "stream",
     "text": [
      "Номер A222BC96 валиден. Регион: 96\n",
      "Номер Б212ВВ193 валиден. Регион: 93\n",
      "Номер АБ22ВВ193 не валиден\n",
      "Номер А222ВС96 валиден. Регион: 96\n"
     ]
    }
   ],
   "source": [
    "import re\n",
    "\n",
    "car_ids = ['A222BC96', 'Б212ВВ193','АБ22ВВ193', 'А222ВС96']\n",
    "number = ''\n",
    "region = ''\n",
    "valid = 'Номер {} валиден. Регион: {}'\n",
    "invalid = 'Номер {} не валиден'\n",
    "output = ''\n",
    "\n",
    "for number in car_ids:\n",
    "    if re.match(r'[A-ZА-Я]{1}\\d{3}[A-ZА-Я]{2}\\d{2,3}', number):\n",
    "        region = re.match(r'.+(\\d{2,3}$)', number).group(1)\n",
    "        output = valid.format(number, region)\n",
    "    else:\n",
    "        output = invalid.format(number)\n",
    "    print(output)"
   ]
  },
  {
   "cell_type": "markdown",
   "id": "00dbf2b6",
   "metadata": {},
   "source": [
    "### Задание 6 (необязательное)\n",
    "Дан поток логов по количеству просмотренных страниц для каждого пользователя (пользователь,дата;просмотры). Вам необходимо написать алгоритм, который считает среднее значение просмотров на пользователя. Т. е. надо посчитать отношение суммы всех просмотров к количеству уникальных пользователей. И тут регулярные выражения облегчат немного реализацию."
   ]
  },
  {
   "cell_type": "code",
   "execution_count": 106,
   "id": "5bb2be85",
   "metadata": {},
   "outputs": [
    {
     "name": "stdout",
     "output_type": "stream",
     "text": [
      "Среднее количество просмотров на уникального пользователя: 23.25\n"
     ]
    }
   ],
   "source": [
    "stream = [\n",
    "    'user4,2021-01-01;3',\n",
    "    'user3,2022-01-07;4',\n",
    "    'user2,2022-03-29;1',\n",
    "    'user1,2020-04-04;13',\n",
    "    'user2,2022-01-05;7',\n",
    "    'user1,2021-06-14;4',\n",
    "    'user3,2022-07-02;10',\n",
    "    'user4,2021-03-21;19',\n",
    "    'user4,2022-03-22;4',\n",
    "    'user4,2022-04-22;8',\n",
    "    'user4,2021-05-03;9',\n",
    "    'user4,2022-05-11;11'\n",
    "]\n",
    "\n",
    "output = 'Среднее количество просмотров на уникального пользователя: '\n",
    "users = []\n",
    "look = 0\n",
    "# кол-во уникальных пользователей\n",
    "for row in stream:\n",
    "    user = re.match(r'(.*)\\,', row).group(1)\n",
    "    if user not in users:\n",
    "        users.append(user)\n",
    "\n",
    "# кол-во просмотров всего\n",
    "for row in stream:\n",
    "    look += int(re.match(r'.*\\;(\\d+)', row).group(1))\n",
    "# среднее значение просмотров на пользователя\n",
    "print(output + str(round(look/len(users),2)))"
   ]
  },
  {
   "cell_type": "code",
   "execution_count": null,
   "id": "cf9ecc6e",
   "metadata": {},
   "outputs": [],
   "source": []
  }
 ],
 "metadata": {
  "kernelspec": {
   "display_name": "Python 3 (ipykernel)",
   "language": "python",
   "name": "python3"
  },
  "language_info": {
   "codemirror_mode": {
    "name": "ipython",
    "version": 3
   },
   "file_extension": ".py",
   "mimetype": "text/x-python",
   "name": "python",
   "nbconvert_exporter": "python",
   "pygments_lexer": "ipython3",
   "version": "3.10.9"
  }
 },
 "nbformat": 4,
 "nbformat_minor": 5
}
