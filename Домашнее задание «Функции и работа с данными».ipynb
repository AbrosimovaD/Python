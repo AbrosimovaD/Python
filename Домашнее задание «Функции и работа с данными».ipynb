{
 "cells": [
  {
   "cell_type": "markdown",
   "id": "b4b5deeb",
   "metadata": {},
   "source": [
    "## Домашнее задание «Функции и работа с данными»"
   ]
  },
  {
   "cell_type": "code",
   "execution_count": 162,
   "id": "1a5b43a7",
   "metadata": {},
   "outputs": [],
   "source": [
    "import pandas as pd\n",
    "import numpy as np"
   ]
  },
  {
   "cell_type": "markdown",
   "id": "ef23fe63",
   "metadata": {},
   "source": [
    "#### Задание 1\n",
    "Напишите функцию, которая классифицирует фильмы из материалов занятия по правилам:\n",
    "\n",
    "- оценка 2 и ниже — низкий рейтинг;\n",
    "- оценка 4 и ниже — средний рейтинг;\n",
    "- оценка 4.5 и 5 — высокий рейтинг.\n",
    "\n",
    "Результат классификации запишите в столбец **class**."
   ]
  },
  {
   "cell_type": "code",
   "execution_count": 2,
   "id": "539a9e95",
   "metadata": {},
   "outputs": [],
   "source": [
    "movies = pd.read_csv('D://ratings.csv')"
   ]
  },
  {
   "cell_type": "code",
   "execution_count": 52,
   "id": "f5d7039a",
   "metadata": {
    "scrolled": true
   },
   "outputs": [
    {
     "data": {
      "text/html": [
       "<div>\n",
       "<style scoped>\n",
       "    .dataframe tbody tr th:only-of-type {\n",
       "        vertical-align: middle;\n",
       "    }\n",
       "\n",
       "    .dataframe tbody tr th {\n",
       "        vertical-align: top;\n",
       "    }\n",
       "\n",
       "    .dataframe thead th {\n",
       "        text-align: right;\n",
       "    }\n",
       "</style>\n",
       "<table border=\"1\" class=\"dataframe\">\n",
       "  <thead>\n",
       "    <tr style=\"text-align: right;\">\n",
       "      <th></th>\n",
       "      <th>userId</th>\n",
       "      <th>movieId</th>\n",
       "      <th>rating</th>\n",
       "      <th>timestamp</th>\n",
       "      <th>class</th>\n",
       "    </tr>\n",
       "  </thead>\n",
       "  <tbody>\n",
       "    <tr>\n",
       "      <th>0</th>\n",
       "      <td>1</td>\n",
       "      <td>31</td>\n",
       "      <td>2.5</td>\n",
       "      <td>1260759144</td>\n",
       "      <td>средний рейтинг</td>\n",
       "    </tr>\n",
       "    <tr>\n",
       "      <th>1</th>\n",
       "      <td>1</td>\n",
       "      <td>1029</td>\n",
       "      <td>3.0</td>\n",
       "      <td>1260759179</td>\n",
       "      <td>средний рейтинг</td>\n",
       "    </tr>\n",
       "    <tr>\n",
       "      <th>2</th>\n",
       "      <td>1</td>\n",
       "      <td>1061</td>\n",
       "      <td>3.0</td>\n",
       "      <td>1260759182</td>\n",
       "      <td>средний рейтинг</td>\n",
       "    </tr>\n",
       "    <tr>\n",
       "      <th>3</th>\n",
       "      <td>1</td>\n",
       "      <td>1129</td>\n",
       "      <td>2.0</td>\n",
       "      <td>1260759185</td>\n",
       "      <td>низкий рейтинг</td>\n",
       "    </tr>\n",
       "    <tr>\n",
       "      <th>4</th>\n",
       "      <td>1</td>\n",
       "      <td>1172</td>\n",
       "      <td>4.0</td>\n",
       "      <td>1260759205</td>\n",
       "      <td>средний рейтинг</td>\n",
       "    </tr>\n",
       "  </tbody>\n",
       "</table>\n",
       "</div>"
      ],
      "text/plain": [
       "   userId  movieId  rating   timestamp            class\n",
       "0       1       31     2.5  1260759144  средний рейтинг\n",
       "1       1     1029     3.0  1260759179  средний рейтинг\n",
       "2       1     1061     3.0  1260759182  средний рейтинг\n",
       "3       1     1129     2.0  1260759185   низкий рейтинг\n",
       "4       1     1172     4.0  1260759205  средний рейтинг"
      ]
     },
     "execution_count": 52,
     "metadata": {},
     "output_type": "execute_result"
    }
   ],
   "source": [
    "movies.head()"
   ]
  },
  {
   "cell_type": "code",
   "execution_count": null,
   "id": "5e7bc7a9",
   "metadata": {},
   "outputs": [],
   "source": [
    "# Вопрос: почему такая реализация выполняется очень долго? И как ее можно оптимизировать?"
   ]
  },
  {
   "cell_type": "code",
   "execution_count": 42,
   "id": "7519dc4d",
   "metadata": {},
   "outputs": [],
   "source": [
    "mean_rating = movies.groupby('movieId').mean().reset_index()[['movieId', 'rating']]"
   ]
  },
  {
   "cell_type": "code",
   "execution_count": 45,
   "id": "f7497dd0",
   "metadata": {},
   "outputs": [],
   "source": [
    "def classification(row):\n",
    "\n",
    "    if float(mean_rating['rating'][mean_rating.movieId == row['movieId']]) <= 2:\n",
    "        return 'низкий рейтинг'\n",
    "    elif float(mean_rating['rating'][mean_rating.movieId == row['movieId']]) >= 4.5:\n",
    "        return 'высокий рейтинг' \n",
    "    else: \n",
    "        return 'средний рейтинг'"
   ]
  },
  {
   "cell_type": "code",
   "execution_count": 47,
   "id": "5402b47b",
   "metadata": {},
   "outputs": [],
   "source": [
    "movies['class'] = movies.apply(classification, axis = 1)"
   ]
  },
  {
   "cell_type": "code",
   "execution_count": null,
   "id": "5dcd493b",
   "metadata": {},
   "outputs": [],
   "source": [
    "# упрощенная реализация"
   ]
  },
  {
   "cell_type": "code",
   "execution_count": 50,
   "id": "1e966226",
   "metadata": {},
   "outputs": [],
   "source": [
    "def classification_simple(row):\n",
    "\n",
    "    if float(row['rating']) <= 2:\n",
    "        return 'низкий рейтинг'\n",
    "    elif float(row['rating']) >= 4.5:\n",
    "        return 'высокий рейтинг' \n",
    "    else: \n",
    "        return 'средний рейтинг'"
   ]
  },
  {
   "cell_type": "code",
   "execution_count": 51,
   "id": "0e68a129",
   "metadata": {},
   "outputs": [],
   "source": [
    "movies['class'] = movies.apply(classification_simple, axis = 1)"
   ]
  },
  {
   "cell_type": "markdown",
   "id": "2b22ecd7",
   "metadata": {},
   "source": [
    "#### Задание 2\n",
    "Используйте файл *keywords.csv.*\n",
    "\n",
    "Нужно написать гео-классификатор, который каждой строке сможет выставить географическую принадлежность определённому региону. Т. е. если поисковый запрос содержит название города региона, то в столбце ‘region’ пишется название этого региона. Если поисковый запрос не содержит названия города, то ставим ‘undefined’.\n",
    "\n",
    "Правила распределения по регионам Центр, Северо-Запад и Дальний Восток:\n",
    "\n",
    "<code>geo_data = {\n",
    "'Центр': ['москва', 'тула', 'ярославль'],\n",
    "'Северо-Запад': ['петербург', 'псков', 'мурманск'],\n",
    "'Дальний Восток': ['владивосток', 'сахалин', 'хабаровск']}</code>\n",
    "\n",
    "Результат классификации запишите в отдельный столбец **region**."
   ]
  },
  {
   "cell_type": "code",
   "execution_count": 58,
   "id": "a691c81c",
   "metadata": {},
   "outputs": [],
   "source": [
    "keywords = pd.read_csv('D://keywords.csv')\n",
    "geo_data = {\n",
    "'Центр': ['москва', 'тула', 'ярославль'],\n",
    "'Северо-Запад': ['петербург', 'псков', 'мурманск'],\n",
    "'Дальний Восток': ['владивосток', 'сахалин', 'хабаровск']}"
   ]
  },
  {
   "cell_type": "code",
   "execution_count": 103,
   "id": "bf61a165",
   "metadata": {},
   "outputs": [],
   "source": [
    "def define_region(row):\n",
    "    regions = []\n",
    "    for region in geo_data.keys():\n",
    "        if (len(set(w[:-1].lower() for w in row.keyword.split(' ')) & set(w[:-1].lower() for w in geo_data[region])) > 0) or (len(set(w[:-1].lower() for w in row.keyword.split(' ')) & set(w.lower() for w in geo_data[region])) > 0):\n",
    "            regions.append(region)\n",
    "    if len(regions)==0:\n",
    "        return 'undefined'\n",
    "    else:\n",
    "        return ', '.join(regions)  \n",
    "    "
   ]
  },
  {
   "cell_type": "code",
   "execution_count": 104,
   "id": "ddc9d2f6",
   "metadata": {},
   "outputs": [],
   "source": [
    "keywords['region'] = keywords.apply(define_region, axis = 1)"
   ]
  },
  {
   "cell_type": "code",
   "execution_count": 115,
   "id": "4573e070",
   "metadata": {},
   "outputs": [
    {
     "data": {
      "text/html": [
       "<div>\n",
       "<style scoped>\n",
       "    .dataframe tbody tr th:only-of-type {\n",
       "        vertical-align: middle;\n",
       "    }\n",
       "\n",
       "    .dataframe tbody tr th {\n",
       "        vertical-align: top;\n",
       "    }\n",
       "\n",
       "    .dataframe thead th {\n",
       "        text-align: right;\n",
       "    }\n",
       "</style>\n",
       "<table border=\"1\" class=\"dataframe\">\n",
       "  <thead>\n",
       "    <tr style=\"text-align: right;\">\n",
       "      <th></th>\n",
       "      <th>keyword</th>\n",
       "      <th>shows</th>\n",
       "      <th>region</th>\n",
       "    </tr>\n",
       "  </thead>\n",
       "  <tbody>\n",
       "    <tr>\n",
       "      <th>127</th>\n",
       "      <td>авито москва</td>\n",
       "      <td>979292</td>\n",
       "      <td>Центр</td>\n",
       "    </tr>\n",
       "    <tr>\n",
       "      <th>143</th>\n",
       "      <td>эхо москвы</td>\n",
       "      <td>889657</td>\n",
       "      <td>Центр</td>\n",
       "    </tr>\n",
       "    <tr>\n",
       "      <th>197</th>\n",
       "      <td>погода в москве</td>\n",
       "      <td>745745</td>\n",
       "      <td>Центр</td>\n",
       "    </tr>\n",
       "    <tr>\n",
       "      <th>370</th>\n",
       "      <td>авито ру санкт петербург</td>\n",
       "      <td>425134</td>\n",
       "      <td>Северо-Запад</td>\n",
       "    </tr>\n",
       "    <tr>\n",
       "      <th>414</th>\n",
       "      <td>погода в москве на 14 дней</td>\n",
       "      <td>400914</td>\n",
       "      <td>Центр</td>\n",
       "    </tr>\n",
       "  </tbody>\n",
       "</table>\n",
       "</div>"
      ],
      "text/plain": [
       "                        keyword   shows        region\n",
       "127                авито москва  979292         Центр\n",
       "143                  эхо москвы  889657         Центр\n",
       "197             погода в москве  745745         Центр\n",
       "370    авито ру санкт петербург  425134  Северо-Запад\n",
       "414  погода в москве на 14 дней  400914         Центр"
      ]
     },
     "execution_count": 115,
     "metadata": {},
     "output_type": "execute_result"
    }
   ],
   "source": [
    "keywords[(keywords.region!= 'undefined')].head()"
   ]
  },
  {
   "cell_type": "markdown",
   "id": "b5bff4a5",
   "metadata": {},
   "source": [
    "#### Задание 3 (бонусное)\n",
    "\n",
    "Есть мнение, что раньше снимали настоящее кино, не то что сейчас. Ваша задача — проверить это утверждение, используя файлы с рейтингами фильмов из прошлого домашнего занятия: файл *movies.csv* и *ratings.csv* из базы. Нужно проверить, верно ли, что с ростом года выпуска фильма его средний рейтинг становится ниже.\n",
    "\n",
    "Вы не будете затрагивать субьективные факторы выставления этих рейтингов, а пройдётесь по алгоритму:\n",
    "\n",
    "1. В переменную years запишите список из всех годов с 1950 по 2010 года.\n",
    "\n",
    "1. Напишите функцию production_year, которая каждой строке из названия фильма выставляет год выпуска. Не все названия фильмов содержат год выпуска в одинаковом формате, поэтому используйте алгоритм:\n",
    "\n",
    "    1. для каждой строки пройдите по всем годам списка years;\n",
    "    1. если номер года присутствует в названии фильма, то функция возвращает этот год, как год выпуска;\n",
    "    1. если ни один из номеров года списка years не встретился в названии фильма, то возвращается 1900 год.\n",
    "    \n",
    "1. Запишите год выпуска фильма по алгоритму пункта 2 в новый столбец ‘year’.\n",
    "\n",
    "1. Посчитайте средний рейтинг всех фильмов для каждого значения столбца ‘year’ и отсортируйте результат по убыванию рейтинга."
   ]
  },
  {
   "cell_type": "code",
   "execution_count": 257,
   "id": "04e38797",
   "metadata": {},
   "outputs": [],
   "source": [
    "rating = pd.read_csv('D://ml-25m/ml-25m/ratings.csv')\n",
    "movies = pd.read_csv('D://ml-25m/ml-25m/movies.csv')"
   ]
  },
  {
   "cell_type": "code",
   "execution_count": 260,
   "id": "d28f9dae",
   "metadata": {},
   "outputs": [
    {
     "data": {
      "text/html": [
       "<div>\n",
       "<style scoped>\n",
       "    .dataframe tbody tr th:only-of-type {\n",
       "        vertical-align: middle;\n",
       "    }\n",
       "\n",
       "    .dataframe tbody tr th {\n",
       "        vertical-align: top;\n",
       "    }\n",
       "\n",
       "    .dataframe thead th {\n",
       "        text-align: right;\n",
       "    }\n",
       "</style>\n",
       "<table border=\"1\" class=\"dataframe\">\n",
       "  <thead>\n",
       "    <tr style=\"text-align: right;\">\n",
       "      <th></th>\n",
       "      <th>userId</th>\n",
       "      <th>movieId</th>\n",
       "      <th>rating</th>\n",
       "      <th>timestamp</th>\n",
       "      <th>year</th>\n",
       "    </tr>\n",
       "  </thead>\n",
       "  <tbody>\n",
       "    <tr>\n",
       "      <th>0</th>\n",
       "      <td>1</td>\n",
       "      <td>296</td>\n",
       "      <td>5.0</td>\n",
       "      <td>1147880044</td>\n",
       "      <td>1994</td>\n",
       "    </tr>\n",
       "    <tr>\n",
       "      <th>1</th>\n",
       "      <td>1</td>\n",
       "      <td>306</td>\n",
       "      <td>3.5</td>\n",
       "      <td>1147868817</td>\n",
       "      <td>1994</td>\n",
       "    </tr>\n",
       "    <tr>\n",
       "      <th>2</th>\n",
       "      <td>1</td>\n",
       "      <td>307</td>\n",
       "      <td>5.0</td>\n",
       "      <td>1147868828</td>\n",
       "      <td>1993</td>\n",
       "    </tr>\n",
       "    <tr>\n",
       "      <th>3</th>\n",
       "      <td>1</td>\n",
       "      <td>665</td>\n",
       "      <td>5.0</td>\n",
       "      <td>1147878820</td>\n",
       "      <td>1995</td>\n",
       "    </tr>\n",
       "    <tr>\n",
       "      <th>4</th>\n",
       "      <td>1</td>\n",
       "      <td>899</td>\n",
       "      <td>3.5</td>\n",
       "      <td>1147868510</td>\n",
       "      <td>1952</td>\n",
       "    </tr>\n",
       "  </tbody>\n",
       "</table>\n",
       "</div>"
      ],
      "text/plain": [
       "   userId  movieId  rating   timestamp  year\n",
       "0       1      296     5.0  1147880044  1994\n",
       "1       1      306     3.5  1147868817  1994\n",
       "2       1      307     5.0  1147868828  1993\n",
       "3       1      665     5.0  1147878820  1995\n",
       "4       1      899     3.5  1147868510  1952"
      ]
     },
     "execution_count": 260,
     "metadata": {},
     "output_type": "execute_result"
    }
   ],
   "source": [
    "rating.head()"
   ]
  },
  {
   "cell_type": "code",
   "execution_count": 267,
   "id": "ed54b0c3",
   "metadata": {},
   "outputs": [
    {
     "data": {
      "text/html": [
       "<div>\n",
       "<style scoped>\n",
       "    .dataframe tbody tr th:only-of-type {\n",
       "        vertical-align: middle;\n",
       "    }\n",
       "\n",
       "    .dataframe tbody tr th {\n",
       "        vertical-align: top;\n",
       "    }\n",
       "\n",
       "    .dataframe thead th {\n",
       "        text-align: right;\n",
       "    }\n",
       "</style>\n",
       "<table border=\"1\" class=\"dataframe\">\n",
       "  <thead>\n",
       "    <tr style=\"text-align: right;\">\n",
       "      <th></th>\n",
       "      <th>movieId</th>\n",
       "      <th>title</th>\n",
       "      <th>genres</th>\n",
       "    </tr>\n",
       "  </thead>\n",
       "  <tbody>\n",
       "    <tr>\n",
       "      <th>0</th>\n",
       "      <td>1</td>\n",
       "      <td>Toy Story (1995)</td>\n",
       "      <td>Adventure|Animation|Children|Comedy|Fantasy</td>\n",
       "    </tr>\n",
       "    <tr>\n",
       "      <th>1</th>\n",
       "      <td>2</td>\n",
       "      <td>Jumanji (1995)</td>\n",
       "      <td>Adventure|Children|Fantasy</td>\n",
       "    </tr>\n",
       "    <tr>\n",
       "      <th>2</th>\n",
       "      <td>3</td>\n",
       "      <td>Grumpier Old Men (1995)</td>\n",
       "      <td>Comedy|Romance</td>\n",
       "    </tr>\n",
       "    <tr>\n",
       "      <th>3</th>\n",
       "      <td>4</td>\n",
       "      <td>Waiting to Exhale (1995)</td>\n",
       "      <td>Comedy|Drama|Romance</td>\n",
       "    </tr>\n",
       "    <tr>\n",
       "      <th>4</th>\n",
       "      <td>5</td>\n",
       "      <td>Father of the Bride Part II (1995)</td>\n",
       "      <td>Comedy</td>\n",
       "    </tr>\n",
       "  </tbody>\n",
       "</table>\n",
       "</div>"
      ],
      "text/plain": [
       "   movieId                               title  \\\n",
       "0        1                    Toy Story (1995)   \n",
       "1        2                      Jumanji (1995)   \n",
       "2        3             Grumpier Old Men (1995)   \n",
       "3        4            Waiting to Exhale (1995)   \n",
       "4        5  Father of the Bride Part II (1995)   \n",
       "\n",
       "                                        genres  \n",
       "0  Adventure|Animation|Children|Comedy|Fantasy  \n",
       "1                   Adventure|Children|Fantasy  \n",
       "2                               Comedy|Romance  \n",
       "3                         Comedy|Drama|Romance  \n",
       "4                                       Comedy  "
      ]
     },
     "execution_count": 267,
     "metadata": {},
     "output_type": "execute_result"
    }
   ],
   "source": [
    "movies.head()"
   ]
  },
  {
   "cell_type": "code",
   "execution_count": 165,
   "id": "e677d3c2",
   "metadata": {},
   "outputs": [],
   "source": [
    "years = set(range(1950,2011))"
   ]
  },
  {
   "cell_type": "code",
   "execution_count": 123,
   "id": "7ed646fe",
   "metadata": {},
   "outputs": [],
   "source": [
    "import re"
   ]
  },
  {
   "cell_type": "code",
   "execution_count": 254,
   "id": "0e40aab8",
   "metadata": {},
   "outputs": [],
   "source": [
    "def production_year(Id):\n",
    "    compare = list(set(np.array(re.findall(r'\\((\\d+)\\)',str(movies.title[(int(Id) == movies.movieId)])), dtype=int)) & years)\n",
    "    if len(compare) > 1:\n",
    "        compare = ', '.join(compare)\n",
    "    elif len(compare) == 1:\n",
    "        compare = str(compare[0])\n",
    "    else:\n",
    "        compare = '1900'\n",
    "    return compare"
   ]
  },
  {
   "cell_type": "code",
   "execution_count": 191,
   "id": "7f3386b7",
   "metadata": {},
   "outputs": [],
   "source": [
    "# тестируем функцию на одной строке"
   ]
  },
  {
   "cell_type": "code",
   "execution_count": null,
   "id": "9fa6afb8",
   "metadata": {},
   "outputs": [],
   "source": [
    "row1 = pd.DataFrame({'userId':[1], 'movieId': [296], 'rating': [4.3], 'timestamp':[1147868510]})"
   ]
  },
  {
   "cell_type": "code",
   "execution_count": 255,
   "id": "33fc2967",
   "metadata": {},
   "outputs": [
    {
     "data": {
      "text/plain": [
       "'1994'"
      ]
     },
     "execution_count": 255,
     "metadata": {},
     "output_type": "execute_result"
    }
   ],
   "source": [
    "production_year(row1.movieId)"
   ]
  },
  {
   "cell_type": "code",
   "execution_count": null,
   "id": "49b6847a",
   "metadata": {},
   "outputs": [],
   "source": [
    "# если не ограничить, выполняется очень долго. Подскажите, пожалуйста, как можно оптимизировать? Что в моем решении неоптимально?\n",
    "rating = rating.head(500)"
   ]
  },
  {
   "cell_type": "code",
   "execution_count": 259,
   "id": "b3e3d0de",
   "metadata": {},
   "outputs": [],
   "source": [
    "rating['year'] = rating.movieId.apply(production_year)"
   ]
  },
  {
   "cell_type": "code",
   "execution_count": 264,
   "id": "a2481fe2",
   "metadata": {},
   "outputs": [],
   "source": [
    "mean_rating = rating.groupby('year').mean().reset_index()[['year', 'rating']].sort_values(by='rating', ascending=False)"
   ]
  },
  {
   "cell_type": "code",
   "execution_count": 266,
   "id": "26c6f03f",
   "metadata": {},
   "outputs": [
    {
     "data": {
      "text/html": [
       "<div>\n",
       "<style scoped>\n",
       "    .dataframe tbody tr th:only-of-type {\n",
       "        vertical-align: middle;\n",
       "    }\n",
       "\n",
       "    .dataframe tbody tr th {\n",
       "        vertical-align: top;\n",
       "    }\n",
       "\n",
       "    .dataframe thead th {\n",
       "        text-align: right;\n",
       "    }\n",
       "</style>\n",
       "<table border=\"1\" class=\"dataframe\">\n",
       "  <thead>\n",
       "    <tr style=\"text-align: right;\">\n",
       "      <th></th>\n",
       "      <th>year</th>\n",
       "      <th>rating</th>\n",
       "    </tr>\n",
       "  </thead>\n",
       "  <tbody>\n",
       "    <tr>\n",
       "      <th>1</th>\n",
       "      <td>1950</td>\n",
       "      <td>5.000000</td>\n",
       "    </tr>\n",
       "    <tr>\n",
       "      <th>7</th>\n",
       "      <td>1959</td>\n",
       "      <td>5.000000</td>\n",
       "    </tr>\n",
       "    <tr>\n",
       "      <th>19</th>\n",
       "      <td>1975</td>\n",
       "      <td>5.000000</td>\n",
       "    </tr>\n",
       "    <tr>\n",
       "      <th>3</th>\n",
       "      <td>1954</td>\n",
       "      <td>4.750000</td>\n",
       "    </tr>\n",
       "    <tr>\n",
       "      <th>22</th>\n",
       "      <td>1978</td>\n",
       "      <td>4.750000</td>\n",
       "    </tr>\n",
       "    <tr>\n",
       "      <th>18</th>\n",
       "      <td>1974</td>\n",
       "      <td>4.666667</td>\n",
       "    </tr>\n",
       "    <tr>\n",
       "      <th>30</th>\n",
       "      <td>1986</td>\n",
       "      <td>4.625000</td>\n",
       "    </tr>\n",
       "    <tr>\n",
       "      <th>27</th>\n",
       "      <td>1983</td>\n",
       "      <td>4.500000</td>\n",
       "    </tr>\n",
       "    <tr>\n",
       "      <th>4</th>\n",
       "      <td>1956</td>\n",
       "      <td>4.500000</td>\n",
       "    </tr>\n",
       "    <tr>\n",
       "      <th>6</th>\n",
       "      <td>1958</td>\n",
       "      <td>4.500000</td>\n",
       "    </tr>\n",
       "  </tbody>\n",
       "</table>\n",
       "</div>"
      ],
      "text/plain": [
       "    year    rating\n",
       "1   1950  5.000000\n",
       "7   1959  5.000000\n",
       "19  1975  5.000000\n",
       "3   1954  4.750000\n",
       "22  1978  4.750000\n",
       "18  1974  4.666667\n",
       "30  1986  4.625000\n",
       "27  1983  4.500000\n",
       "4   1956  4.500000\n",
       "6   1958  4.500000"
      ]
     },
     "execution_count": 266,
     "metadata": {},
     "output_type": "execute_result"
    }
   ],
   "source": [
    "mean_rating.head(10)"
   ]
  },
  {
   "cell_type": "code",
   "execution_count": null,
   "id": "56c52910",
   "metadata": {},
   "outputs": [],
   "source": []
  }
 ],
 "metadata": {
  "kernelspec": {
   "display_name": "Python 3 (ipykernel)",
   "language": "python",
   "name": "python3"
  },
  "language_info": {
   "codemirror_mode": {
    "name": "ipython",
    "version": 3
   },
   "file_extension": ".py",
   "mimetype": "text/x-python",
   "name": "python",
   "nbconvert_exporter": "python",
   "pygments_lexer": "ipython3",
   "version": "3.10.9"
  }
 },
 "nbformat": 4,
 "nbformat_minor": 5
}
