{
 "cells": [
  {
   "cell_type": "markdown",
   "id": "2ba86bee",
   "metadata": {},
   "source": [
    "#### Задание 1\n",
    "Переведите содержимое файла purchase_log.txt* в словарь purchases вида:\n",
    "{‘1840e0b9d4’: ‘Продукты’, …}"
   ]
  },
  {
   "cell_type": "code",
   "execution_count": 23,
   "id": "f9325ebf",
   "metadata": {},
   "outputs": [],
   "source": [
    "import json\n",
    "purchases = {}\n",
    "with open('D:\\Downloads\\purchase_log.txt', 'r', encoding = 'utf-8') as f_to_read:\n",
    "    for line in f_to_read:\n",
    "        purchases.setdefault(json.loads(line)['user_id'],json.loads(line)['category'])"
   ]
  },
  {
   "cell_type": "markdown",
   "id": "92c0793b",
   "metadata": {},
   "source": [
    "#### Задание 2\n",
    "Для каждого user_id в файле visit_log.csv определите третий столбец с категорией покупки, если покупка была, сам файл visit_log.csv* изменять не надо. Запишите в файл funnel.csv визиты из файла visit_log.csv*, в которых были покупки с указанием категории."
   ]
  },
  {
   "cell_type": "code",
   "execution_count": 60,
   "id": "e1259c1b",
   "metadata": {},
   "outputs": [],
   "source": [
    "with open('D:/Downloads/visit_log.csv','r') as f_log:\n",
    "    with open('D:/Downloads/funnel.csv','w', encoding = 'utf-8') as funnel:\n",
    "        for line in f_log:\n",
    "            new_line = line.strip().split(',')\n",
    "            flag += 1\n",
    "            try:\n",
    "                new_line.append(purchases[new_line[0]])\n",
    "            except: \n",
    "                flag = 0\n",
    "                pass\n",
    "            if flag:\n",
    "                funnel.write(','.join(new_line)+'\\n')"
   ]
  },
  {
   "cell_type": "code",
   "execution_count": null,
   "id": "7c9633fa",
   "metadata": {},
   "outputs": [],
   "source": []
  }
 ],
 "metadata": {
  "kernelspec": {
   "display_name": "Python 3 (ipykernel)",
   "language": "python",
   "name": "python3"
  },
  "language_info": {
   "codemirror_mode": {
    "name": "ipython",
    "version": 3
   },
   "file_extension": ".py",
   "mimetype": "text/x-python",
   "name": "python",
   "nbconvert_exporter": "python",
   "pygments_lexer": "ipython3",
   "version": "3.10.9"
  }
 },
 "nbformat": 4,
 "nbformat_minor": 5
}
